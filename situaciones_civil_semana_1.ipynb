{
  "nbformat": 4,
  "nbformat_minor": 0,
  "metadata": {
    "colab": {
      "provenance": [],
      "authorship_tag": "ABX9TyPr4ROrZEVlIcblT6fp6YLa",
      "include_colab_link": true
    },
    "kernelspec": {
      "name": "python3",
      "display_name": "Python 3"
    },
    "language_info": {
      "name": "python"
    }
  },
  "cells": [
    {
      "cell_type": "markdown",
      "metadata": {
        "id": "view-in-github",
        "colab_type": "text"
      },
      "source": [
        "<a href=\"https://colab.research.google.com/github/stevenarrieta7890/situaciones_civil_semana_1/blob/main/situaciones_civil_semana_1.ipynb\" target=\"_parent\"><img src=\"https://colab.research.google.com/assets/colab-badge.svg\" alt=\"Open In Colab\"/></a>"
      ]
    },
    {
      "cell_type": "code",
      "source": [],
      "metadata": {
        "id": "8C9b6YzxKyTF"
      },
      "execution_count": null,
      "outputs": []
    },
    {
      "cell_type": "markdown",
      "source": [
        "Situación de Interés en Ingeniería Agrícola : Un agricultor necesita saber cuántos kilogramos\n",
        "de semilla de maíz debe comprar para sembrar un lote rectangular. Conoce la densidad de siembra\n",
        "recomendada (kg por hectárea) y las dimensiones del lote (largo y ancho en metros).\n"
      ],
      "metadata": {
        "id": "F-Svz3cRLg_r"
      }
    },
    {
      "cell_type": "code",
      "source": [
        "# calculo de semillas\n",
        "# 1. saludar al usuario y explicar que hace el programa\n",
        "print(\"bienvenidos al calculo de semilas\")\n",
        "\n",
        "#2. pedir al usuario que ingrese el largo del lote en metros (input sin conversion)\n",
        "largo = input(\"ingrese el largo del lote en metros: \")\n",
        "\n",
        "#3. pedir al usuario que ingrese el ancho del lote en metros (input sin conversion)\n",
        "ancho = input(\"ingrese el ancho del lote en metros: \")\n",
        "\n",
        "#4. pedir la densidad de siembra en kg/hectareas \"(input)\"\n",
        "densidad = input(\"ingrese la densidad de siembra en kg/hectarea: \")\n",
        "\n",
        "#5. convertir las entradas de texto a numeros decimales (float).\n",
        "largo = float(largo)\n",
        "ancho = float(ancho)\n",
        "densidad = float(densidad)\n",
        "\n",
        "#6. calcular el area en metros cuadrados (largo * ancho)\n",
        "area = largo * ancho\n",
        "\n",
        "#7. convertir el area a hectareas (1 hectarea = 10,000)\n",
        "area = area/ 10000\n",
        "\n",
        "#8. calcular la cantidad de semillas en kilogramos (area * densidad)\n",
        "semillas = area*densidad\n",
        "\n",
        "#9. mostrar el resultado final al usuario de forma clara (print).\n",
        "la camtidad de semillas a comprar es de {semillas} kg.\n",
        "\n",
        "\n",
        "\n",
        "\n",
        "\n",
        "\n",
        "\n"
      ],
      "metadata": {
        "id": "gbqZ5uqoMPeh"
      },
      "execution_count": 2,
      "outputs": []
    }
  ]
}